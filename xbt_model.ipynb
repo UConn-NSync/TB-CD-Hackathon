{
 "cells": [
  {
   "cell_type": "code",
   "execution_count": null,
   "id": "b627a0df",
   "metadata": {},
   "outputs": [],
   "source": [
    "import model\n",
    "\n",
    "model.train_model('unitprice', 9000, '/home/ubuntu/TB-CD-Hackathon/xbt_model')"
   ]
  },
  {
   "cell_type": "code",
   "execution_count": 1,
   "id": "1dac93e5",
   "metadata": {},
   "outputs": [],
   "source": [
    "import model\n",
    "\n",
    "predictions, actual_prices = model.predict_values('unitprice', 9000, \"/home/ubuntu/TB-CD-Hackathon/xbt_model\",'/home/ubuntu/TB-CD-Hackathon/xbt_2018-2020_train.csv', '/home/ubuntu/TB-CD-Hackathon/xbt_2018-2020_test.csv')"
   ]
  },
  {
   "cell_type": "code",
   "execution_count": null,
   "id": "ea64c3b0",
   "metadata": {},
   "outputs": [],
   "source": [
    "import matplotlib.pyplot as plt\n",
    "print(predictions[-1])\n",
    "print(actual_prices[-1])\n",
    "sIlLyPriCes = actual_prices[7000:]\n",
    "plt.rcParams[\"figure.figsize\"] = (20,20)\n",
    "plt.axis([2000, 3000, 0, 25000])\n",
    "model.plot_preds('XBT', 0, predictions, sIlLyPriCes)"
   ]
  },
  {
   "cell_type": "code",
   "execution_count": null,
   "id": "a49892cb",
   "metadata": {},
   "outputs": [],
   "source": []
  }
 ],
 "metadata": {
  "kernelspec": {
   "display_name": "Environment (conda_tensorflow2_p38)",
   "language": "python",
   "name": "conda_tensorflow2_p38"
  },
  "language_info": {
   "codemirror_mode": {
    "name": "ipython",
    "version": 3
   },
   "file_extension": ".py",
   "mimetype": "text/x-python",
   "name": "python",
   "nbconvert_exporter": "python",
   "pygments_lexer": "ipython3",
   "version": "3.8.12"
  }
 },
 "nbformat": 4,
 "nbformat_minor": 5
}