{
 "cells": [
  {
   "cell_type": "code",
   "execution_count": 4,
   "id": "eaf9d3c0",
   "metadata": {},
   "outputs": [],
   "source": [
    "import pandas as pd\n",
    "import dask.dataframe as dk\n",
    "import numpy as np\n",
    "\n",
    "mainData = dk.read_csv(\"~/Downloads/eth.usd.2020\", header=None ,names=['exchange', 'unitprice', 'quantity', 'timestamp'], dtype={'timestamp': np.float64})\n",
    "mainData = mainData.drop_duplicates(subset='timestamp')\n",
    "mainData = mainData.dropna()\n",
    "mainData = mainData.drop(labels='quantity', axis=1)"
   ]
  },
  {
   "cell_type": "code",
   "execution_count": 2,
   "id": "c2f2de90",
   "metadata": {},
   "outputs": [],
   "source": [
    "#ixbx\n",
    "#ixbx data manipulation\n",
    "krkn_data = mainData.loc[mainData['exchange'] == \"krkn-eth-usd\"].compute()"
   ]
  },
  {
   "cell_type": "code",
   "execution_count": 3,
   "id": "0aea04cc",
   "metadata": {},
   "outputs": [],
   "source": [
    "#bfnx\n",
    "#bfnx data aggregation\n",
    "bfnx_data = mainData.loc[mainData['exchange'] == 'bfnx-eth-usd'].compute()"
   ]
  },
  {
   "cell_type": "code",
   "execution_count": 4,
   "id": "c4005dad",
   "metadata": {},
   "outputs": [],
   "source": [
    "base_data = mainData.loc[mainData['exchange'] == \"base-eth-usd\"].compute()"
   ]
  },
  {
   "cell_type": "code",
   "execution_count": 6,
   "id": "345c5c63",
   "metadata": {
    "scrolled": true
   },
   "outputs": [],
   "source": [
    "ixbx_data['timestamp'] = dk.to_datetime(ixbx_data['timestamp'], unit='s')\n",
    "bfnx_data['timestamp'] = dk.to_datetime(bfnx_data['timestamp'], unit='s')\n",
    "base_data['timestamp'] = dk.to_datetime(base_data['timestamp'], unit='s')"
   ]
  },
  {
   "cell_type": "code",
   "execution_count": 8,
   "id": "a0c19927",
   "metadata": {},
   "outputs": [
    {
     "data": {
      "text/html": [
       "<div>\n",
       "<style scoped>\n",
       "    .dataframe tbody tr th:only-of-type {\n",
       "        vertical-align: middle;\n",
       "    }\n",
       "\n",
       "    .dataframe tbody tr th {\n",
       "        vertical-align: top;\n",
       "    }\n",
       "\n",
       "    .dataframe thead th {\n",
       "        text-align: right;\n",
       "    }\n",
       "</style>\n",
       "<table border=\"1\" class=\"dataframe\">\n",
       "  <thead>\n",
       "    <tr style=\"text-align: right;\">\n",
       "      <th></th>\n",
       "      <th>unitprice</th>\n",
       "    </tr>\n",
       "    <tr>\n",
       "      <th>timestamp</th>\n",
       "      <th></th>\n",
       "    </tr>\n",
       "  </thead>\n",
       "  <tbody>\n",
       "    <tr>\n",
       "      <th>2018-01-01 00:00:00</th>\n",
       "      <td>14766.435156</td>\n",
       "    </tr>\n",
       "    <tr>\n",
       "      <th>2018-01-01 01:00:00</th>\n",
       "      <td>13256.782609</td>\n",
       "    </tr>\n",
       "    <tr>\n",
       "      <th>2018-01-01 03:00:00</th>\n",
       "      <td>7483.000000</td>\n",
       "    </tr>\n",
       "    <tr>\n",
       "      <th>2018-01-01 05:00:00</th>\n",
       "      <td>8845.000000</td>\n",
       "    </tr>\n",
       "    <tr>\n",
       "      <th>2018-01-01 07:00:00</th>\n",
       "      <td>10150.000000</td>\n",
       "    </tr>\n",
       "    <tr>\n",
       "      <th>...</th>\n",
       "      <td>...</td>\n",
       "    </tr>\n",
       "    <tr>\n",
       "      <th>2018-12-31 19:00:00</th>\n",
       "      <td>8077.326812</td>\n",
       "    </tr>\n",
       "    <tr>\n",
       "      <th>2018-12-31 20:00:00</th>\n",
       "      <td>8842.139474</td>\n",
       "    </tr>\n",
       "    <tr>\n",
       "      <th>2018-12-31 21:00:00</th>\n",
       "      <td>9160.818838</td>\n",
       "    </tr>\n",
       "    <tr>\n",
       "      <th>2018-12-31 22:00:00</th>\n",
       "      <td>9220.177967</td>\n",
       "    </tr>\n",
       "    <tr>\n",
       "      <th>2018-12-31 23:00:00</th>\n",
       "      <td>9496.242282</td>\n",
       "    </tr>\n",
       "  </tbody>\n",
       "</table>\n",
       "<p>8571 rows × 1 columns</p>\n",
       "</div>"
      ],
      "text/plain": [
       "                        unitprice\n",
       "timestamp                        \n",
       "2018-01-01 00:00:00  14766.435156\n",
       "2018-01-01 01:00:00  13256.782609\n",
       "2018-01-01 03:00:00   7483.000000\n",
       "2018-01-01 05:00:00   8845.000000\n",
       "2018-01-01 07:00:00  10150.000000\n",
       "...                           ...\n",
       "2018-12-31 19:00:00   8077.326812\n",
       "2018-12-31 20:00:00   8842.139474\n",
       "2018-12-31 21:00:00   9160.818838\n",
       "2018-12-31 22:00:00   9220.177967\n",
       "2018-12-31 23:00:00   9496.242282\n",
       "\n",
       "[8571 rows x 1 columns]"
      ]
     },
     "execution_count": 8,
     "metadata": {},
     "output_type": "execute_result"
    }
   ],
   "source": [
    "bfnx_hourly = bfnx_data.set_index('timestamp')\n",
    "bfnx_hourly = bfnx_hourly.resample('60min').mean()\n",
    "bfnx_hourly_computed = bfnx_hourly.dropna()\n",
    "bfnx_hourly_computed"
   ]
  },
  {
   "cell_type": "code",
   "execution_count": 9,
   "id": "b5e15d11",
   "metadata": {},
   "outputs": [
    {
     "data": {
      "text/html": [
       "<div>\n",
       "<style scoped>\n",
       "    .dataframe tbody tr th:only-of-type {\n",
       "        vertical-align: middle;\n",
       "    }\n",
       "\n",
       "    .dataframe tbody tr th {\n",
       "        vertical-align: top;\n",
       "    }\n",
       "\n",
       "    .dataframe thead th {\n",
       "        text-align: right;\n",
       "    }\n",
       "</style>\n",
       "<table border=\"1\" class=\"dataframe\">\n",
       "  <thead>\n",
       "    <tr style=\"text-align: right;\">\n",
       "      <th></th>\n",
       "      <th>unitprice</th>\n",
       "    </tr>\n",
       "    <tr>\n",
       "      <th>timestamp</th>\n",
       "      <th></th>\n",
       "    </tr>\n",
       "  </thead>\n",
       "  <tbody>\n",
       "    <tr>\n",
       "      <th>2018-01-01 00:00:00</th>\n",
       "      <td>9808.397484</td>\n",
       "    </tr>\n",
       "    <tr>\n",
       "      <th>2018-01-01 03:00:00</th>\n",
       "      <td>9031.461305</td>\n",
       "    </tr>\n",
       "    <tr>\n",
       "      <th>2018-01-01 06:00:00</th>\n",
       "      <td>8124.910000</td>\n",
       "    </tr>\n",
       "    <tr>\n",
       "      <th>2018-01-01 08:00:00</th>\n",
       "      <td>9889.525283</td>\n",
       "    </tr>\n",
       "    <tr>\n",
       "      <th>2018-01-01 13:00:00</th>\n",
       "      <td>6441.473434</td>\n",
       "    </tr>\n",
       "    <tr>\n",
       "      <th>...</th>\n",
       "      <td>...</td>\n",
       "    </tr>\n",
       "    <tr>\n",
       "      <th>2018-12-31 19:00:00</th>\n",
       "      <td>6385.410775</td>\n",
       "    </tr>\n",
       "    <tr>\n",
       "      <th>2018-12-31 20:00:00</th>\n",
       "      <td>6124.299187</td>\n",
       "    </tr>\n",
       "    <tr>\n",
       "      <th>2018-12-31 21:00:00</th>\n",
       "      <td>6456.822742</td>\n",
       "    </tr>\n",
       "    <tr>\n",
       "      <th>2018-12-31 22:00:00</th>\n",
       "      <td>6567.436088</td>\n",
       "    </tr>\n",
       "    <tr>\n",
       "      <th>2018-12-31 23:00:00</th>\n",
       "      <td>6640.568021</td>\n",
       "    </tr>\n",
       "  </tbody>\n",
       "</table>\n",
       "<p>7985 rows × 1 columns</p>\n",
       "</div>"
      ],
      "text/plain": [
       "                       unitprice\n",
       "timestamp                       \n",
       "2018-01-01 00:00:00  9808.397484\n",
       "2018-01-01 03:00:00  9031.461305\n",
       "2018-01-01 06:00:00  8124.910000\n",
       "2018-01-01 08:00:00  9889.525283\n",
       "2018-01-01 13:00:00  6441.473434\n",
       "...                          ...\n",
       "2018-12-31 19:00:00  6385.410775\n",
       "2018-12-31 20:00:00  6124.299187\n",
       "2018-12-31 21:00:00  6456.822742\n",
       "2018-12-31 22:00:00  6567.436088\n",
       "2018-12-31 23:00:00  6640.568021\n",
       "\n",
       "[7985 rows x 1 columns]"
      ]
     },
     "execution_count": 9,
     "metadata": {},
     "output_type": "execute_result"
    }
   ],
   "source": [
    "ixbx_hourly = ixbx_data.set_index('timestamp')\n",
    "ixbx_hourly = ixbx_hourly.resample('60min').mean()\n",
    "ixbx_hourly_computed = ixbx_hourly.dropna()\n",
    "ixbx_hourly_computed"
   ]
  },
  {
   "cell_type": "code",
   "execution_count": 10,
   "id": "69852b71",
   "metadata": {},
   "outputs": [
    {
     "data": {
      "text/html": [
       "<div>\n",
       "<style scoped>\n",
       "    .dataframe tbody tr th:only-of-type {\n",
       "        vertical-align: middle;\n",
       "    }\n",
       "\n",
       "    .dataframe tbody tr th {\n",
       "        vertical-align: top;\n",
       "    }\n",
       "\n",
       "    .dataframe thead th {\n",
       "        text-align: right;\n",
       "    }\n",
       "</style>\n",
       "<table border=\"1\" class=\"dataframe\">\n",
       "  <thead>\n",
       "    <tr style=\"text-align: right;\">\n",
       "      <th></th>\n",
       "      <th>unitprice</th>\n",
       "    </tr>\n",
       "    <tr>\n",
       "      <th>timestamp</th>\n",
       "      <th></th>\n",
       "    </tr>\n",
       "  </thead>\n",
       "  <tbody>\n",
       "    <tr>\n",
       "      <th>2018-01-01 00:00:00</th>\n",
       "      <td>14815.560961</td>\n",
       "    </tr>\n",
       "    <tr>\n",
       "      <th>2018-01-01 01:00:00</th>\n",
       "      <td>15146.633933</td>\n",
       "    </tr>\n",
       "    <tr>\n",
       "      <th>2018-01-01 02:00:00</th>\n",
       "      <td>12675.508918</td>\n",
       "    </tr>\n",
       "    <tr>\n",
       "      <th>2018-01-01 03:00:00</th>\n",
       "      <td>11321.799821</td>\n",
       "    </tr>\n",
       "    <tr>\n",
       "      <th>2018-01-01 04:00:00</th>\n",
       "      <td>8071.794736</td>\n",
       "    </tr>\n",
       "    <tr>\n",
       "      <th>...</th>\n",
       "      <td>...</td>\n",
       "    </tr>\n",
       "    <tr>\n",
       "      <th>2018-12-11 22:00:00</th>\n",
       "      <td>14877.790000</td>\n",
       "    </tr>\n",
       "    <tr>\n",
       "      <th>2018-12-17 21:00:00</th>\n",
       "      <td>12080.010000</td>\n",
       "    </tr>\n",
       "    <tr>\n",
       "      <th>2018-12-18 19:00:00</th>\n",
       "      <td>7415.370000</td>\n",
       "    </tr>\n",
       "    <tr>\n",
       "      <th>2018-12-19 17:00:00</th>\n",
       "      <td>6240.743333</td>\n",
       "    </tr>\n",
       "    <tr>\n",
       "      <th>2018-12-21 19:00:00</th>\n",
       "      <td>6412.699097</td>\n",
       "    </tr>\n",
       "  </tbody>\n",
       "</table>\n",
       "<p>7595 rows × 1 columns</p>\n",
       "</div>"
      ],
      "text/plain": [
       "                        unitprice\n",
       "timestamp                        \n",
       "2018-01-01 00:00:00  14815.560961\n",
       "2018-01-01 01:00:00  15146.633933\n",
       "2018-01-01 02:00:00  12675.508918\n",
       "2018-01-01 03:00:00  11321.799821\n",
       "2018-01-01 04:00:00   8071.794736\n",
       "...                           ...\n",
       "2018-12-11 22:00:00  14877.790000\n",
       "2018-12-17 21:00:00  12080.010000\n",
       "2018-12-18 19:00:00   7415.370000\n",
       "2018-12-19 17:00:00   6240.743333\n",
       "2018-12-21 19:00:00   6412.699097\n",
       "\n",
       "[7595 rows x 1 columns]"
      ]
     },
     "execution_count": 10,
     "metadata": {},
     "output_type": "execute_result"
    }
   ],
   "source": [
    "base_hourly = base_data.set_index('timestamp')\n",
    "base_hourly = base_hourly.resample('60min').mean()\n",
    "base_hourly_computed = base_hourly.dropna()\n",
    "base_hourly_computed"
   ]
  },
  {
   "cell_type": "code",
   "execution_count": 11,
   "id": "7f0e4d0f",
   "metadata": {},
   "outputs": [],
   "source": [
    "ixbx_hourly_computed.to_csv(\"ixbx_hourly_computed.csv\")"
   ]
  },
  {
   "cell_type": "code",
   "execution_count": 12,
   "id": "9ab4c6b8",
   "metadata": {},
   "outputs": [],
   "source": [
    "base_hourly_computed.to_csv(\"base_hourly_computed.csv\")"
   ]
  },
  {
   "cell_type": "code",
   "execution_count": 13,
   "id": "9417ad5a",
   "metadata": {
    "scrolled": true
   },
   "outputs": [],
   "source": [
    "bfnx_hourly_computed.to_csv(\"bfnx_hourly_computed.csv\")"
   ]
  },
  {
   "cell_type": "code",
   "execution_count": 14,
   "id": "130b903e",
   "metadata": {},
   "outputs": [],
   "source": [
    "mainETH = dk.read_csv(\"~/Downloads/eth.usd.2020\", header=None ,names=['exchange', 'unitprice', 'quantity', 'timestamp'], dtype={'timestamp': np.float64})"
   ]
  },
  {
   "cell_type": "code",
   "execution_count": 16,
   "id": "3eccf458",
   "metadata": {},
   "outputs": [],
   "source": [
    "mainETH = mainETH.drop_duplicates(subset='timestamp')\n",
    "mainETH = mainETH.dropna()\n",
    "mainETH = mainETH.drop(labels='quantity', axis=1)"
   ]
  },
  {
   "cell_type": "code",
   "execution_count": 25,
   "id": "81a9bf91",
   "metadata": {},
   "outputs": [
    {
     "data": {
      "text/plain": [
       "exchange\n",
       "base-eth-usd    276.254145\n",
       "bfnx-eth-usd    371.984571\n",
       "bnus-eth-usd    374.471071\n",
       "btmx-eth-usd    312.432593\n",
       "btrx-eth-usd    508.526391\n",
       "eris-eth-usd    456.366399\n",
       "hitb-eth-usd    188.576457\n",
       "iehx-eth-usd    306.204095\n",
       "itbt-eth-usd    516.122666\n",
       "krkn-eth-usd    341.006118\n",
       "lmax-eth-usd    353.113693\n",
       "okcn-eth-usd    423.032411\n",
       "prme-eth-usd    364.846830\n",
       "stmp-eth-usd    365.666351\n",
       "Name: unitprice, dtype: float64"
      ]
     },
     "execution_count": 25,
     "metadata": {},
     "output_type": "execute_result"
    }
   ],
   "source": [
    "mainETH.groupby('exchange')['unitprice'].mean().compute()"
   ]
  },
  {
   "cell_type": "code",
   "execution_count": 5,
   "id": "c33d892a",
   "metadata": {},
   "outputs": [],
   "source": [
    "xy = pd.read_csv(\"bfnx_hourly_computed.csv\", parse_dates=[\"timestamp\"])"
   ]
  },
  {
   "cell_type": "code",
   "execution_count": 10,
   "id": "b65fa08c",
   "metadata": {},
   "outputs": [],
   "source": [
    "g = xy.set_index('timestamp')"
   ]
  },
  {
   "cell_type": "code",
   "execution_count": 21,
   "id": "d51640ca",
   "metadata": {},
   "outputs": [
    {
     "data": {
      "text/plain": [
       "<AxesSubplot:xlabel='timestamp'>"
      ]
     },
     "execution_count": 21,
     "metadata": {},
     "output_type": "execute_result"
    },
    {
     "data": {
      "image/png": "[encoded data removed]",
      "text/plain": [
       "<Figure size 432x288 with 1 Axes>"
      ]
     },
     "metadata": {
      "needs_background": "light"
     },
     "output_type": "display_data"
    }
   ],
   "source": [
    "g[\"2018-03-01\":\"2018-03-10\"].plot()"
   ]
  },
  {
   "cell_type": "code",
   "execution_count": 32,
   "id": "f102b125",
   "metadata": {},
   "outputs": [],
   "source": [
    "h = g.resample('12h').mean()"
   ]
  },
  {
   "cell_type": "code",
   "execution_count": 35,
   "id": "4e1e4d5a",
   "metadata": {},
   "outputs": [
    {
     "data": {
      "text/plain": [
       "<AxesSubplot:xlabel='timestamp'>"
      ]
     },
     "execution_count": 35,
     "metadata": {},
     "output_type": "execute_result"
    },
    {
     "data": {
      "image/png": "[encoded data removed]",
      "text/plain": [
       "<Figure size 432x288 with 1 Axes>"
      ]
     },
     "metadata": {
      "needs_background": "light"
     },
     "output_type": "display_data"
    }
   ],
   "source": [
    "h[\"2018-02-01\":\"2018-02-23\"].plot()"
   ]
  },
  {
   "cell_type": "code",
   "execution_count": null,
   "id": "16e35736",
   "metadata": {},
   "outputs": [],
   "source": []
  }
 ],
 "metadata": {
  "kernelspec": {
   "display_name": "Python [conda env:p310]",
   "language": "python",
   "name": "conda-env-p310-py"
  },
  "language_info": {
   "codemirror_mode": {
    "name": "ipython",
    "version": 3
   },
   "file_extension": ".py",
   "mimetype": "text/x-python",
   "name": "python",
   "nbconvert_exporter": "python",
   "pygments_lexer": "ipython3",
   "version": "3.10.0"
  }
 },
 "nbformat": 4,
 "nbformat_minor": 5
}
