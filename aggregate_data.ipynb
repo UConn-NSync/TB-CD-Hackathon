{
 "cells": [
  {
   "cell_type": "code",
   "execution_count": 97,
   "id": "22198d36",
   "metadata": {},
   "outputs": [],
   "source": [
    "import pandas as pd\n",
    "import numpy as np\n",
    "\n",
    "x = pd.read_csv(\"ixbx_hourly_computed.csv\", parse_dates=[\"timestamp\"], names=['timestamp', 'ixbx'], skiprows=1)\n",
    "y = pd.read_csv(\"bfnx_hourly_computed.csv\", parse_dates=[\"timestamp2\"], names=['timestamp2', 'bfnx'], skiprows=1)\n",
    "z = pd.read_csv(\"base_hourly_computed.csv\", parse_dates=[\"timestamp3\"], names=['timestamp3', 'base'], skiprows=1)\n",
    "x.set_index('timestamp')\n",
    "\n",
    "p = [x,y,z]\n",
    "\n",
    "result = pd.concat(p, axis=1, join='inner')\n",
    "result = result.drop(labels=['timestamp2', 'timestamp3'], axis=1)\n",
    "result['unitprice'] = (result['ixbx'] + result['bfnx'] + result['base'])/3\n",
    "result = result.drop(labels=['ixbx', 'bfnx', 'base'], axis=1)\n",
    "\n",
    "result= result.set_index('timestamp')\n",
    "#result\n",
    "result.to_csv(\"xbt_averaged_2018.csv\")\n",
    "#result.groupby('timestamp').mean()\n"
   ]
  },
  {
   "cell_type": "code",
   "execution_count": null,
   "id": "7765898d",
   "metadata": {},
   "outputs": [],
   "source": []
  }
 ],
 "metadata": {
  "kernelspec": {
   "display_name": "Python [conda env:p310]",
   "language": "python",
   "name": "conda-env-p310-py"
  },
  "language_info": {
   "codemirror_mode": {
    "name": "ipython",
    "version": 3
   },
   "file_extension": ".py",
   "mimetype": "text/x-python",
   "name": "python",
   "nbconvert_exporter": "python",
   "pygments_lexer": "ipython3",
   "version": "3.10.0"
  }
 },
 "nbformat": 4,
 "nbformat_minor": 5
}
